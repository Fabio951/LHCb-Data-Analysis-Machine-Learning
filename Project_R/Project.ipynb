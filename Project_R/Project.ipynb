{
 "cells": [
  {
   "cell_type": "code",
   "execution_count": null,
   "metadata": {},
   "outputs": [],
   "source": [
    "source('Requirements_and_Functions.R')"
   ]
  },
  {
   "cell_type": "markdown",
   "metadata": {},
   "source": [
    "## Preparing datas"
   ]
  },
  {
   "cell_type": "code",
   "execution_count": null,
   "metadata": {},
   "outputs": [],
   "source": [
    "datas_or <- load_all_datas(labels=TRUE, check_none=TRUE)\n",
    "data_bkg <- datas_or[[1]]\n",
    "data_sim_sign <- datas_or[[2]]\n",
    "data_lhcb <- datas_or[[3]]\n",
    "data_compl <- get_complementary_cut(data_lhcb)\n",
    "datas_or <- list('data_bkg' = data_bkg,\n",
    "                'data_sig' = data_sim_sign,\n",
    "                'data_lhcb' = data_lhcb,\n",
    "                'data_compl' = data_compl\n",
    "               )"
   ]
  },
  {
   "cell_type": "code",
   "execution_count": null,
   "metadata": {},
   "outputs": [],
   "source": [
    "datas_show <- list()\n",
    "for (i in 1:4){\n",
    "    datas_show[[names(datas_or[i])]] = clean_datas(datas_or[[i]], only_useful=FALSE, only_unbiased=FALSE)\n",
    "}\n",
    "datas <- list()\n",
    "for (i in 1:4){\n",
    "    datas[[names(datas_show[i])]] = clean_datas(datas_show[[i]], only_useful=FALSE, only_unbiased=TRUE)\n",
    "}"
   ]
  },
  {
   "cell_type": "code",
   "execution_count": null,
   "metadata": {},
   "outputs": [],
   "source": [
    "datas_train_test <- take_test_set(datas, write_on_file=TRUE)\n",
    "datas_train <- datas_train_test[['data_train']]\n",
    "x_test <- datas_train_test[['x_test']]\n",
    "y_test <- datas_train_test[['y_test']]"
   ]
  },
  {
   "cell_type": "markdown",
   "metadata": {},
   "source": [
    "## Show Datas"
   ]
  },
  {
   "cell_type": "code",
   "execution_count": null,
   "metadata": {},
   "outputs": [],
   "source": [
    "show_datas(datas_show[c(1,3)], density=TRUE, cuts=TRUE)"
   ]
  },
  {
   "cell_type": "markdown",
   "metadata": {},
   "source": [
    "## Random Forest - All Features"
   ]
  },
  {
   "cell_type": "markdown",
   "metadata": {},
   "source": [
    "#### Fraction of the total sample to be used"
   ]
  },
  {
   "cell_type": "code",
   "execution_count": null,
   "metadata": {},
   "outputs": [],
   "source": [
    "samples <- c(seq(950,1050,50), seq(1070,1130,20), seq(1150,1300,50))\n",
    "results <- get_plots_fraction_tot_samples(datas_train, samples=samples, times=1, method=customRF)"
   ]
  },
  {
   "cell_type": "markdown",
   "metadata": {},
   "source": [
    "#### Best parameters to be used"
   ]
  },
  {
   "cell_type": "code",
   "execution_count": null,
   "metadata": {},
   "outputs": [],
   "source": [
    "tuneGrid <- expand.grid(.mtry = 5,\n",
    "                        .ntree = 400,\n",
    "                        .maxnodes = 150,\n",
    "                        .importance = FALSE,\n",
    "                        .nodesize = 150)\n",
    "try_parameters(method=customRF, parameters=tuneGrid, datas_train=datas_train)"
   ]
  },
  {
   "cell_type": "code",
   "execution_count": null,
   "metadata": {},
   "outputs": [],
   "source": [
    "best_mtry <- 5\n",
    "best_ntree <- 400\n",
    "best_maxnodes <- 150\n",
    "best_importance <- FALSE\n",
    "best_nodesize <- 150"
   ]
  },
  {
   "cell_type": "markdown",
   "metadata": {},
   "source": [
    "#### Train and test"
   ]
  },
  {
   "cell_type": "code",
   "execution_count": null,
   "metadata": {},
   "outputs": [],
   "source": [
    "data_to_train <- get_training_datas(datas_train)"
   ]
  },
  {
   "cell_type": "code",
   "execution_count": null,
   "metadata": {},
   "outputs": [],
   "source": [
    "random_forest_all <- randomForest(Label ~ .,\n",
    "                                  data = data_to_train,\n",
    "                                  mtry = best_mtry,\n",
    "                                  ntree = best_ntree,\n",
    "                                  maxnodes = best_maxnodes,\n",
    "                                  importance = best_importance,\n",
    "                                  best_nodesize = best_nodesize\n",
    "                                 )"
   ]
  },
  {
   "cell_type": "code",
   "execution_count": null,
   "metadata": {},
   "outputs": [],
   "source": [
    "show_result(model = random_forest_all,\n",
    "            x_test = x_test,\n",
    "            y_test = y_test\n",
    "           ) "
   ]
  },
  {
   "cell_type": "code",
   "execution_count": null,
   "metadata": {},
   "outputs": [],
   "source": [
    "predicted_proba_all <- predict(random_forest_all, x_test, type='prob')"
   ]
  },
  {
   "cell_type": "markdown",
   "metadata": {},
   "source": [
    "## Random Forest - Useful Features"
   ]
  },
  {
   "cell_type": "markdown",
   "metadata": {},
   "source": [
    "#### Preparing Datas"
   ]
  },
  {
   "cell_type": "code",
   "execution_count": null,
   "metadata": {},
   "outputs": [],
   "source": [
    "datas_useful <- list()\n",
    "for (i in 1:length(datas_train)){\n",
    "    datas_useful[[names(datas_train[i])]] <- clean_datas(datas_train[[i]], only_useful=TRUE)\n",
    "}"
   ]
  },
  {
   "cell_type": "markdown",
   "metadata": {},
   "source": [
    "#### Fraction of the total sample to be used"
   ]
  },
  {
   "cell_type": "code",
   "execution_count": null,
   "metadata": {},
   "outputs": [],
   "source": [
    "samples <- c(seq(950,1050,50), seq(1070,1130,20), seq(1150,1300,50))\n",
    "results <- get_plots_fraction_tot_samples(datas_useful, samples=samples, times=1, method=customRF)"
   ]
  },
  {
   "cell_type": "markdown",
   "metadata": {},
   "source": [
    "#### Best parameters to be used"
   ]
  },
  {
   "cell_type": "code",
   "execution_count": null,
   "metadata": {},
   "outputs": [],
   "source": [
    "tuneGrid <- expand.grid(.mtry = 3,\n",
    "                        .ntree = 135,#c(seq(10,150,10),seq(200,2000,500)),\n",
    "                        .maxnodes = 30,#c(seq(10,60,4)),\n",
    "                        .importance = TRUE,\n",
    "                        .nodesize = seq(1,50,3))\n",
    "try_parameters(method=customRF, parameters=tuneGrid, datas_train=datas_useful)"
   ]
  },
  {
   "cell_type": "code",
   "execution_count": null,
   "metadata": {},
   "outputs": [],
   "source": [
    "best_mtry <- 3\n",
    "best_ntree <- 135\n",
    "best_maxnodes <- 30\n",
    "best_importance <- TRUE\n",
    "best_nodesize <- 27"
   ]
  },
  {
   "cell_type": "markdown",
   "metadata": {},
   "source": [
    "#### Train and test"
   ]
  },
  {
   "cell_type": "code",
   "execution_count": null,
   "metadata": {},
   "outputs": [],
   "source": [
    "data_to_train <- get_training_datas(datas_useful)"
   ]
  },
  {
   "cell_type": "code",
   "execution_count": null,
   "metadata": {},
   "outputs": [],
   "source": [
    "random_forest_usf <- randomForest(Label ~ .,\n",
    "                                  data = data_to_train,\n",
    "                                  mtry = best_mtry,\n",
    "                                  ntree = best_ntree,\n",
    "                                  maxnodes = best_maxnodes,\n",
    "                                  importance = best_importance,\n",
    "                                  best_nodesize = best_nodesize\n",
    "                                 )"
   ]
  },
  {
   "cell_type": "code",
   "execution_count": null,
   "metadata": {},
   "outputs": [],
   "source": [
    "x_test_useful <- clean_datas(x_test, only_useful=TRUE)\n",
    "show_result(model = random_forest_usf,\n",
    "            x_test = x_test_useful,\n",
    "            y_test = y_test\n",
    "           ) "
   ]
  },
  {
   "cell_type": "code",
   "execution_count": null,
   "metadata": {},
   "outputs": [],
   "source": [
    "predicted_proba_usf <- predict(random_forest_usf, x_test_useful, type='prob')"
   ]
  },
  {
   "cell_type": "markdown",
   "metadata": {},
   "source": [
    "## Random Forest - Optimized Features"
   ]
  },
  {
   "cell_type": "markdown",
   "metadata": {},
   "source": [
    "#### Preparing Datas"
   ]
  },
  {
   "cell_type": "code",
   "execution_count": null,
   "metadata": {},
   "outputs": [],
   "source": [
    "drop_columns <- correlations(datas[['data_lhcb']], show=TRUE, columns_to_drop=TRUE, only_useful=TRUE,\n",
    "                            threshold=0.8)\n",
    "datas_optimized <- list()\n",
    "for (i in 1:length(datas_useful)){\n",
    "    datas_optimized[[names(datas_useful[i])]] <- clean_datas(datas_useful[[i]], drop_columns=drop_columns)\n",
    "}"
   ]
  },
  {
   "cell_type": "markdown",
   "metadata": {},
   "source": [
    "#### Fraction of the total sample to be used"
   ]
  },
  {
   "cell_type": "code",
   "execution_count": null,
   "metadata": {},
   "outputs": [],
   "source": [
    "samples <- c(seq(900,1050,50), seq(1070,1130,20), seq(1150,1300,50))\n",
    "results <- get_plots_fraction_tot_samples(datas_optimized, samples=samples, times=1, method=customRF)"
   ]
  },
  {
   "cell_type": "markdown",
   "metadata": {},
   "source": [
    "#### Best parameters to be used"
   ]
  },
  {
   "cell_type": "code",
   "execution_count": null,
   "metadata": {},
   "outputs": [],
   "source": [
    "tuneGrid <- expand.grid(.mtry = 3,\n",
    "                        .ntree = 135,#c(seq(10,200,10),seq(250,2000,500)),\n",
    "                        .maxnodes = 40,#c(seq(10,100,6)),\n",
    "                        .importance = FALSE,\n",
    "                        .nodesize = seq(1,50,3))\n",
    "try_parameters(method=customRF, parameters=tuneGrid, datas_train=datas_optimized)"
   ]
  },
  {
   "cell_type": "code",
   "execution_count": null,
   "metadata": {},
   "outputs": [],
   "source": [
    "best_mtry <- 3\n",
    "best_ntree <- 135\n",
    "best_maxnodes <- 40\n",
    "best_importance <- FALSE\n",
    "best_nodesize <- 30"
   ]
  },
  {
   "cell_type": "markdown",
   "metadata": {},
   "source": [
    "#### Train and test"
   ]
  },
  {
   "cell_type": "code",
   "execution_count": null,
   "metadata": {},
   "outputs": [],
   "source": [
    "data_to_train <- get_training_datas(datas_optimized)"
   ]
  },
  {
   "cell_type": "code",
   "execution_count": null,
   "metadata": {},
   "outputs": [],
   "source": [
    "random_forest_opt <- randomForest(Label ~ .,\n",
    "                                  data = data_to_train,\n",
    "                                  mtry = best_mtry,\n",
    "                                  ntree = best_ntree,\n",
    "                                  maxnodes = best_maxnodes,\n",
    "                                  importance = best_importance,\n",
    "                                  best_nodesize = best_nodesize\n",
    "                                 )"
   ]
  },
  {
   "cell_type": "code",
   "execution_count": null,
   "metadata": {},
   "outputs": [],
   "source": [
    "x_test_optimized <- clean_datas(x_test_useful, drop_columns=drop_columns) \n",
    "show_result(model = random_forest_opt,\n",
    "            x_test = x_test,\n",
    "            y_test = y_test\n",
    "           ) "
   ]
  },
  {
   "cell_type": "code",
   "execution_count": null,
   "metadata": {},
   "outputs": [],
   "source": [
    "predicted_proba_opt <- predict(random_forest_opt, x_test_useful, type='prob')"
   ]
  },
  {
   "cell_type": "markdown",
   "metadata": {},
   "source": [
    "## Ensemble Random Forest"
   ]
  },
  {
   "cell_type": "markdown",
   "metadata": {},
   "source": [
    "#### Train and test"
   ]
  },
  {
   "cell_type": "code",
   "execution_count": null,
   "metadata": {},
   "outputs": [],
   "source": [
    "params_list <- list(all_datas = list(mtry = 4:6,\n",
    "                                     ntree = seq(300,500,50),\n",
    "                                     maxnodes = seq(130,170,10),#c(seq(10,100,6)),\n",
    "                                     importance = c(TRUE,FALSE,FALSE),\n",
    "                                     nodesize = seq(130,170,10)\n",
    "                                    ),\n",
    "                    few_datas = list(mtry = 3:4,\n",
    "                                     ntree = seq(110,150,10),\n",
    "                                     maxnodes = seq(30,60,5),#c(seq(10,100,6)),\n",
    "                                     importance = c(TRUE,FALSE),\n",
    "                                     nodesize = seq(20,40,5)\n",
    "                                    )\n",
    "                   )\n",
    "\n",
    "EnsembleForest_classifiers <- create_fit_EnsembleForest(params_list, datas_train, nforests=20, same_params=FALSE,\n",
    "                                                        all_datas=TRUE, useful=TRUE, optimized=TRUE,\n",
    "                                                        drop_columns=drop_columns)"
   ]
  },
  {
   "cell_type": "code",
   "execution_count": null,
   "metadata": {},
   "outputs": [],
   "source": [
    "predicted_ens <- predict_ensemble_forest(EnsembleForest_classifiers, x_test, drop_columns=drop_columns)\n",
    "\n",
    "show_result_ensemble(predicted_prob = predicted_ens,\n",
    "                     y_test = y_test\n",
    "                    ) "
   ]
  },
  {
   "cell_type": "markdown",
   "metadata": {},
   "source": [
    "## AdaBoost - All Features"
   ]
  },
  {
   "cell_type": "markdown",
   "metadata": {},
   "source": [
    "#### Best parameters to be used"
   ]
  },
  {
   "cell_type": "code",
   "execution_count": null,
   "metadata": {},
   "outputs": [],
   "source": [
    "params <- expand.grid(tree_depth = seq(1,7,2),\n",
    "                      n_rounds = seq(200,500,75),#seq(25,300,25),\n",
    "                      verbose = FALSE\n",
    "                     )\n",
    "try_parameters_AB(params=params, datas=datas_train)"
   ]
  },
  {
   "cell_type": "code",
   "execution_count": null,
   "metadata": {},
   "outputs": [],
   "source": [
    "best_tree_depth <- 4\n",
    "best_n_rounds <- 350"
   ]
  },
  {
   "cell_type": "markdown",
   "metadata": {},
   "source": [
    "#### Train and test"
   ]
  },
  {
   "cell_type": "code",
   "execution_count": null,
   "metadata": {},
   "outputs": [],
   "source": [
    "data_train <- get_training_datas(datas_train, AB=TRUE)\n",
    "x_train <- as.matrix(data_train[,-length(data_train)])\n",
    "y_train <- data_train$Label"
   ]
  },
  {
   "cell_type": "code",
   "execution_count": null,
   "metadata": {},
   "outputs": [],
   "source": [
    "AB <- adaboost(X = x_train,\n",
    "               y = y_train,\n",
    "               tree_depth = best_tree_depth,\n",
    "               n_rounds = best_n_rounds,\n",
    "               verbose = FALSE\n",
    "              )"
   ]
  },
  {
   "cell_type": "code",
   "execution_count": null,
   "metadata": {},
   "outputs": [],
   "source": [
    "predicted_prob_AB <- predict(AB, x_test, type='prob')"
   ]
  },
  {
   "cell_type": "code",
   "execution_count": null,
   "metadata": {},
   "outputs": [],
   "source": [
    "show_result_AB(predicted_prob = predicted_prob_AB,\n",
    "               y_test = y_test\n",
    "              ) "
   ]
  },
  {
   "cell_type": "markdown",
   "metadata": {},
   "source": [
    "## GradBoost - All Features"
   ]
  },
  {
   "cell_type": "markdown",
   "metadata": {},
   "source": [
    "#### Best parameters to be used"
   ]
  },
  {
   "cell_type": "code",
   "execution_count": null,
   "metadata": {},
   "outputs": [],
   "source": [
    "params <- expand.grid(max.depth = 1:2,\n",
    "                      eta = seq(0.45, 0.7,0.05),\n",
    "                      nrounds = seq(250,500,125),\n",
    "                      gamma = 0,\n",
    "                      early_stopping_rounds = 50\n",
    "                     )\n",
    "try_parameters_GB(params=params, datas=datas_train)"
   ]
  },
  {
   "cell_type": "code",
   "execution_count": null,
   "metadata": {},
   "outputs": [],
   "source": [
    "best_max.depth <- 2\n",
    "best_eta <- 0.57\n",
    "best_nrounds <- 300\n",
    "best_gamma <- 0\n",
    "best_early_stopping_rounds <- 50"
   ]
  },
  {
   "cell_type": "markdown",
   "metadata": {},
   "source": [
    "#### Train and test"
   ]
  },
  {
   "cell_type": "code",
   "execution_count": null,
   "metadata": {},
   "outputs": [],
   "source": [
    "datas_train_test <- take_test_set(datas, write_on_file=TRUE)\n",
    "datas_train <- datas_train_test[['data_train']]\n",
    "x_test <- datas_train_test[['x_test']]\n",
    "y_test <- datas_train_test[['y_test']]"
   ]
  },
  {
   "cell_type": "code",
   "execution_count": null,
   "metadata": {},
   "outputs": [],
   "source": [
    "data_train <- get_training_datas(datas_train)\n",
    "x_train <- as.matrix(data_train[,-length(data_train)])\n",
    "y_train <- as.numeric(data_train[,length(data_train)])-1"
   ]
  },
  {
   "cell_type": "code",
   "execution_count": null,
   "metadata": {},
   "outputs": [],
   "source": [
    "GB <- xgboost(data = x_train,\n",
    "              label = y_train,\n",
    "              max.depth = best_max.depth,\n",
    "              eta = best_eta,\n",
    "              nrounds = best_nrounds,\n",
    "              gamma = best_gamma,\n",
    "              early_stopping_rounds = best_early_stopping_rounds,\n",
    "              objective = \"binary:logistic\",\n",
    "              verbose = 0\n",
    "              )"
   ]
  },
  {
   "cell_type": "code",
   "execution_count": null,
   "metadata": {},
   "outputs": [],
   "source": [
    "predicted_prob_GB <- predict(GB, as.matrix(x_test), type='prob')"
   ]
  },
  {
   "cell_type": "code",
   "execution_count": null,
   "metadata": {},
   "outputs": [],
   "source": [
    "show_result_AB(predicted_prob = predicted_prob_GB,\n",
    "               y_test = y_test\n",
    "              ) "
   ]
  },
  {
   "cell_type": "markdown",
   "metadata": {},
   "source": [
    "## Deep Neural Network - All Features"
   ]
  },
  {
   "cell_type": "markdown",
   "metadata": {},
   "source": [
    "#### Best parameters to be used"
   ]
  },
  {
   "cell_type": "code",
   "execution_count": null,
   "metadata": {},
   "outputs": [],
   "source": [
    "#c(50,30,10), c(30,50,100), c(90,180), c(150,300)),#, c(100), c(50), c(200)),\n",
    "#c(90,90,90,10), c(100,70,50,30), c(140,110,80,50)\n",
    "params <- expand.grid(layers_size = list(c(700), c(90,180), c(250,130,80), c(100,70,50,30), c(100,70,50,30,20)),\n",
    "                      regularizer = 'bn',#list(list('l1',0.01), list('l2', 0.1), list('l2', 0.01), 'none', 'bn'),\n",
    "                      dropout = 0.5,\n",
    "                      activation = 'relu',#c('relu', 'elu'),\n",
    "                      optimizer = 'rmsprop',#c('nesterov', 'rmsprop', 'adam'),\n",
    "                      momentum = 0.75,\n",
    "                      epochs = c(400), \n",
    "                      batch_size = c(50)\n",
    "                     )\n",
    "try_parameters_NN(params=params, datas=datas_train)"
   ]
  },
  {
   "cell_type": "code",
   "execution_count": null,
   "metadata": {},
   "outputs": [],
   "source": [
    "best_layers_size <- list(c(700), c(90,180), c(250,130,80), c(100,70,50,30), c(100,70,50,30,20))\n",
    "best_regularizer <- 'bn'\n",
    "best_dropout <- 0.5\n",
    "best_activation <- 'relu'\n",
    "best_optimizer <- 'rmsprop'\n",
    "best_momentum <- 0.75\n",
    "best_epochs <- c(400) \n",
    "best_batch_size <- c(25)"
   ]
  },
  {
   "cell_type": "code",
   "execution_count": null,
   "metadata": {},
   "outputs": [],
   "source": [
    "best_parameters <- list(best_layers_size = best_layers_size,\n",
    "                        best_regularizer = best_regularizer,\n",
    "                        best_dropout = best_dropout,\n",
    "                        best_activation = best_activation,\n",
    "                        best_optimizer = best_optimizer,\n",
    "                        best_momentum = best_momentum,\n",
    "                        best_epochs = best_epochs,\n",
    "                        best_batch_size = best_batch_size\n",
    "                       )"
   ]
  },
  {
   "cell_type": "markdown",
   "metadata": {},
   "source": [
    "#### Train and test"
   ]
  },
  {
   "cell_type": "code",
   "execution_count": null,
   "metadata": {},
   "outputs": [],
   "source": [
    "source('Requirements_and_Functions.R')"
   ]
  },
  {
   "cell_type": "code",
   "execution_count": null,
   "metadata": {},
   "outputs": [],
   "source": [
    "NN_models_and_scalers <- make_NN_models(best_parameters, datas_train)"
   ]
  },
  {
   "cell_type": "code",
   "execution_count": null,
   "metadata": {},
   "outputs": [],
   "source": [
    "predicted_prob_NN <- predict_NN_prob(NN_models_and_scalers, x_test)"
   ]
  },
  {
   "cell_type": "code",
   "execution_count": null,
   "metadata": {},
   "outputs": [],
   "source": [
    "show_result_AB(predicted_prob = predicted_prob_NN,\n",
    "               y_test = y_test\n",
    "              ) "
   ]
  },
  {
   "cell_type": "markdown",
   "metadata": {},
   "source": [
    "# All Together"
   ]
  },
  {
   "cell_type": "markdown",
   "metadata": {},
   "source": [
    "##### Split train val"
   ]
  },
  {
   "cell_type": "code",
   "execution_count": null,
   "metadata": {},
   "outputs": [],
   "source": [
    "datas_train_test_AT <- take_test_set(datas_train, write_on_file=FALSE)\n",
    "datas_train_AT <- datas_train_test_AT[['data_train']]\n",
    "x_val_AT <- datas_train_test_AT[['x_test']]\n",
    "y_val_AT <- datas_train_test_AT[['y_test']]"
   ]
  },
  {
   "cell_type": "markdown",
   "metadata": {},
   "source": [
    "##### Random forest all features"
   ]
  },
  {
   "cell_type": "code",
   "execution_count": null,
   "metadata": {},
   "outputs": [],
   "source": [
    "best_mtry <- 5\n",
    "best_ntree <- 400\n",
    "best_maxnodes <- 150\n",
    "best_importance <- FALSE\n",
    "best_nodesize <- 150"
   ]
  },
  {
   "cell_type": "code",
   "execution_count": null,
   "metadata": {},
   "outputs": [],
   "source": [
    "data_to_train_AT <- get_training_datas(datas_train_AT)\n",
    "random_forest_all_AT <- randomForest(Label ~ .,\n",
    "                                     data = data_to_train_AT,\n",
    "                                     mtry = best_mtry,\n",
    "                                     ntree = best_ntree,\n",
    "                                     maxnodes = best_maxnodes,\n",
    "                                     importance = best_importance,\n",
    "                                     best_nodesize = best_nodesize\n",
    "                                    )"
   ]
  },
  {
   "cell_type": "markdown",
   "metadata": {},
   "source": [
    "##### Random forest useful features"
   ]
  },
  {
   "cell_type": "code",
   "execution_count": null,
   "metadata": {},
   "outputs": [],
   "source": [
    "data_to_train_AT <- get_training_datas(datas_train_AT)\n",
    "data_to_train_useful_AT <- clean_datas(data_to_train_AT, only_useful=TRUE)"
   ]
  },
  {
   "cell_type": "code",
   "execution_count": null,
   "metadata": {},
   "outputs": [],
   "source": [
    "best_mtry <- 3\n",
    "best_ntree <- 135\n",
    "best_maxnodes <- 30\n",
    "best_importance <- TRUE\n",
    "best_nodesize <- 27"
   ]
  },
  {
   "cell_type": "code",
   "execution_count": null,
   "metadata": {},
   "outputs": [],
   "source": [
    "random_forest_usf_AT <- randomForest(Label ~ .,\n",
    "                                     data = data_to_train_useful_AT,\n",
    "                                     mtry = best_mtry,\n",
    "                                     ntree = best_ntree,\n",
    "                                     maxnodes = best_maxnodes,\n",
    "                                     importance = best_importance,\n",
    "                                     best_nodesize = best_nodesize\n",
    "                                    )"
   ]
  },
  {
   "cell_type": "markdown",
   "metadata": {},
   "source": [
    "##### Random forest all features"
   ]
  },
  {
   "cell_type": "code",
   "execution_count": null,
   "metadata": {},
   "outputs": [],
   "source": [
    "data_to_train_AT <- get_training_datas(datas_train_AT)\n",
    "data_to_train_useful_AT <- list()\n",
    "data_to_train_useful_AT <- clean_datas(data_to_train_AT, only_useful=TRUE)\n",
    "drop_columns <- correlations(datas[['data_lhcb']], show=FALSE, columns_to_drop=TRUE, only_useful=TRUE,\n",
    "                            threshold=0.8)\n",
    "data_to_train_optimized_AT <- clean_datas(data_to_train_useful_AT, drop_columns=drop_columns)"
   ]
  },
  {
   "cell_type": "code",
   "execution_count": null,
   "metadata": {},
   "outputs": [],
   "source": [
    "best_mtry <- 3\n",
    "best_ntree <- 135\n",
    "best_maxnodes <- 40\n",
    "best_importance <- FALSE\n",
    "best_nodesize <- 30"
   ]
  },
  {
   "cell_type": "code",
   "execution_count": null,
   "metadata": {},
   "outputs": [],
   "source": [
    "random_forest_opt_AT <- randomForest(Label ~ .,\n",
    "                                     data = data_to_train_optimized_AT,\n",
    "                                     mtry = best_mtry,\n",
    "                                     ntree = best_ntree,\n",
    "                                     maxnodes = best_maxnodes,\n",
    "                                     importance = best_importance,\n",
    "                                     best_nodesize = best_nodesize\n",
    "                                    )"
   ]
  },
  {
   "cell_type": "markdown",
   "metadata": {},
   "source": [
    "##### Ensemble random forest"
   ]
  },
  {
   "cell_type": "code",
   "execution_count": null,
   "metadata": {},
   "outputs": [],
   "source": [
    "params_list <- list(all_datas = list(mtry = 4:6,\n",
    "                                     ntree = seq(300,500,50),\n",
    "                                     maxnodes = seq(130,170,10),#c(seq(10,100,6)),\n",
    "                                     importance = c(TRUE,FALSE,FALSE),\n",
    "                                     nodesize = seq(130,170,10)\n",
    "                                    ),\n",
    "                    few_datas = list(mtry = 3:4,\n",
    "                                     ntree = seq(110,150,10),\n",
    "                                     maxnodes = seq(30,60,5),#c(seq(10,100,6)),\n",
    "                                     importance = c(TRUE,FALSE),\n",
    "                                     nodesize = seq(20,40,5)\n",
    "                                    )\n",
    "                   )\n",
    "\n",
    "EnsembleForest_classifiers_AT <- create_fit_EnsembleForest(params_list, datas_train_AT, nforests=20,\n",
    "                                                           same_params=FALSE, all_datas=TRUE, useful=TRUE,\n",
    "                                                           optimized=TRUE, drop_columns=drop_columns)"
   ]
  },
  {
   "cell_type": "markdown",
   "metadata": {},
   "source": [
    "##### Adaboost"
   ]
  },
  {
   "cell_type": "code",
   "execution_count": null,
   "metadata": {},
   "outputs": [],
   "source": [
    "best_tree_depth <- 4\n",
    "best_n_rounds <- 350"
   ]
  },
  {
   "cell_type": "code",
   "execution_count": null,
   "metadata": {},
   "outputs": [],
   "source": [
    "data_train_AT <- get_training_datas(datas_train_AT, AB=TRUE)\n",
    "x_train_AT <- as.matrix(data_train_AT[,-length(data_train_AT)])\n",
    "y_train_AT <- data_train_AT$Label"
   ]
  },
  {
   "cell_type": "code",
   "execution_count": null,
   "metadata": {},
   "outputs": [],
   "source": [
    "AB_AT <- adaboost(X = x_train_AT,\n",
    "                  y = y_train_AT,\n",
    "                  tree_depth = best_tree_depth,\n",
    "                  n_rounds = best_n_rounds,\n",
    "                  verbose = FALSE\n",
    "                 )"
   ]
  },
  {
   "cell_type": "markdown",
   "metadata": {},
   "source": [
    "##### Gradboost"
   ]
  },
  {
   "cell_type": "code",
   "execution_count": null,
   "metadata": {},
   "outputs": [],
   "source": [
    "best_max.depth <- 2\n",
    "best_eta <- 0.57\n",
    "best_nrounds <- 300\n",
    "best_gamma <- 0\n",
    "best_early_stopping_rounds <- 50"
   ]
  },
  {
   "cell_type": "code",
   "execution_count": null,
   "metadata": {},
   "outputs": [],
   "source": [
    "data_to_train_AT <- get_training_datas(datas_train_AT)\n",
    "x_train_AT <- as.matrix(data_to_train_AT[,-length(data_to_train_AT)])\n",
    "y_train_AT <- as.numeric(data_to_train_AT[,length(data_to_train_AT)])-1"
   ]
  },
  {
   "cell_type": "code",
   "execution_count": null,
   "metadata": {},
   "outputs": [],
   "source": [
    "GB_AT <- xgboost(data = x_train_AT,\n",
    "                 label = y_train_AT,\n",
    "                 max.depth = best_max.depth,\n",
    "                 eta = best_eta,\n",
    "                 nrounds = best_nrounds,\n",
    "                 gamma = best_gamma,\n",
    "                 early_stopping_rounds = best_early_stopping_rounds,\n",
    "                 objective = \"binary:logistic\",\n",
    "                 verbose = 0\n",
    "                )"
   ]
  },
  {
   "cell_type": "markdown",
   "metadata": {},
   "source": [
    "##### Neural networks"
   ]
  },
  {
   "cell_type": "code",
   "execution_count": null,
   "metadata": {},
   "outputs": [],
   "source": [
    "best_layers_size <- list(c(700), c(90,180), c(250,130,80), c(100,70,50,30), c(100,70,50,30,20))\n",
    "best_regularizer <- 'bn'\n",
    "best_dropout <- 0.5\n",
    "best_activation <- 'relu'\n",
    "best_optimizer <- 'rmsprop'\n",
    "best_momentum <- 0.75\n",
    "best_epochs <- c(400) \n",
    "best_batch_size <- c(25)"
   ]
  },
  {
   "cell_type": "code",
   "execution_count": null,
   "metadata": {},
   "outputs": [],
   "source": [
    "best_parameters <- list(best_layers_size = best_layers_size,\n",
    "                        best_regularizer = best_regularizer,\n",
    "                        best_dropout = best_dropout,\n",
    "                        best_activation = best_activation,\n",
    "                        best_optimizer = best_optimizer,\n",
    "                        best_momentum = best_momentum,\n",
    "                        best_epochs = best_epochs,\n",
    "                        best_batch_size = best_batch_size\n",
    "                       )"
   ]
  },
  {
   "cell_type": "code",
   "execution_count": null,
   "metadata": {},
   "outputs": [],
   "source": [
    "NN_models_and_scalers_AT <- make_NN_models(best_parameters, datas_train_AT, final=TRUE)"
   ]
  },
  {
   "cell_type": "markdown",
   "metadata": {},
   "source": [
    "### Final Model"
   ]
  },
  {
   "cell_type": "code",
   "execution_count": null,
   "metadata": {},
   "outputs": [],
   "source": [
    "source('Requirements_and_Functions.R')"
   ]
  },
  {
   "cell_type": "code",
   "execution_count": null,
   "metadata": {
    "scrolled": false
   },
   "outputs": [],
   "source": [
    "Final_Model <- make_final_model(nn_models = NN_models_and_scalers_AT,\n",
    "                                adaboost = AB_AT,\n",
    "                                gradboost = GB_AT,\n",
    "                                rf_all = random_forest_all_AT,\n",
    "                                rf_usf = random_forest_usf_AT,\n",
    "                                rf_opt = random_forest_opt_AT,\n",
    "                                rf_ens = EnsembleForest_classifiers_AT,\n",
    "                                x_val = x_val_AT,\n",
    "                                y_val = y_val_AT,\n",
    "                                drop_columns = drop_columns\n",
    "                               )"
   ]
  },
  {
   "cell_type": "code",
   "execution_count": null,
   "metadata": {},
   "outputs": [],
   "source": [
    "sum(unlist(get_weights(Final_Model)[1]))"
   ]
  },
  {
   "cell_type": "code",
   "execution_count": null,
   "metadata": {},
   "outputs": [],
   "source": [
    "get_weights(Final_Model)"
   ]
  },
  {
   "cell_type": "code",
   "execution_count": null,
   "metadata": {},
   "outputs": [],
   "source": [
    "labels <- c('RF_all', 'RF_usf', 'RF_opt',\n",
    "           'Ensemble_RF', 'AdaBoost', 'GradBoost',\n",
    "           'NN_1', 'NN_2', 'NN_3', 'NN_4', 'NN_5'\n",
    "          )\n",
    "pie(get_weights(Final_Model)[[1]], labels=labels, main=\"Weights Classifiers\")"
   ]
  },
  {
   "cell_type": "code",
   "execution_count": null,
   "metadata": {},
   "outputs": [],
   "source": [
    "labels <- c('Random Forests', 'AdaBoost', 'GradBoost', 'Neural Networks')\n",
    "weights_rf <- sum(get_weights(Final_Model)[[1]][1:4])\n",
    "weight_ab <- get_weights(Final_Model)[[1]][5]\n",
    "weight_gb <- get_weights(Final_Model)[[1]][6]\n",
    "weight_nn <- sum(get_weights(Final_Model)[[1]][7:11])\n",
    "weights <- c(weights_rf, weight_ab, weight_gb, weight_nn)\n",
    "pie(weights, labels=labels, main=\"Weights Classifiers Grouped\")"
   ]
  },
  {
   "cell_type": "code",
   "execution_count": null,
   "metadata": {
    "scrolled": true
   },
   "outputs": [],
   "source": [
    "alpha <- sum(unlist(get_weights(Final_Model)[1]))\n",
    "predicted_prob_final <- predict_final_model(nn_models = NN_models_and_scalers_AT,\n",
    "                                            adaboost = AB_AT,\n",
    "                                            gradboost = GB_AT,\n",
    "                                            rf_all = random_forest_all_AT,\n",
    "                                            rf_usf = random_forest_usf_AT,\n",
    "                                            rf_opt = random_forest_opt_AT,\n",
    "                                            rf_ens = EnsembleForest_classifiers_AT,\n",
    "                                            x_test = x_test,\n",
    "                                            final_model = Final_Model,\n",
    "                                            drop_columns = drop_columns,\n",
    "                                            alpha = alpha\n",
    "                                           )"
   ]
  },
  {
   "cell_type": "code",
   "execution_count": null,
   "metadata": {},
   "outputs": [],
   "source": [
    "show_result_AB(predicted_prob = predicted_prob_final,\n",
    "               y_test = y_test\n",
    "              ) "
   ]
  },
  {
   "cell_type": "markdown",
   "metadata": {},
   "source": [
    "# ROC Curve"
   ]
  },
  {
   "cell_type": "code",
   "execution_count": null,
   "metadata": {},
   "outputs": [],
   "source": [
    "smooth = FALSE\n",
    "\n",
    "auc_rf_all <- roc(y_test, predicted_proba_all[,1], plot=TRUE, col=2, quiet=TRUE, smooth=smooth)$auc\n",
    "auc_rf_usf <- roc(y_test, predicted_proba_usf[,1], plot=TRUE, col=3, add=TRUE, quiet=TRUE, smooth=smooth)$auc\n",
    "auc_rf_opt <- roc(y_test, predicted_proba_opt[,1], plot=TRUE, col=4, add=TRUE, quiet=TRUE, smooth=smooth)$auc\n",
    "auc_rf_ens <- roc(y_test, predicted_ens[,1], plot=TRUE, col=5, add=TRUE, quiet=TRUE, smooth=smooth)$auc\n",
    "auc_AB <- roc(y_test, predicted_prob_AB, plot=TRUE, col=6, add=TRUE, quiet=TRUE, smooth=smooth)$auc\n",
    "auc_GB <- roc(y_test, predicted_prob_GB, plot=TRUE, col=8, add=TRUE, quiet=TRUE, smooth=smooth)$auc\n",
    "auc_NN <- roc(y_test, as.numeric(predicted_prob_NN), plot=TRUE, col=9, add=TRUE, quiet=TRUE, smooth=smooth)$auc\n",
    "auc_Final <- roc(y_test, as.numeric(predicted_prob_final), plot=TRUE, col='orange', add=TRUE, quiet=TRUE,\n",
    "                 smooth=smooth)$auc\n",
    "\n",
    "\n",
    "\n",
    "legend(\"bottomright\",\n",
    "       c('forest_all', 'forest_usf', 'forest_opt', 'forest_ens', 'AB', 'GB', 'NN', 'Final'),\n",
    "       fill=c(2:6,c(8,9), 'orange')\n",
    "      )\n",
    "\n",
    "aucs <- list(rf_all = auc_rf_all,\n",
    "             rf_usf = auc_rf_usf,\n",
    "             rf_opt = auc_rf_opt,\n",
    "             rf_ens = auc_rf_ens,\n",
    "             AB = auc_AB,\n",
    "             GB = auc_GB,\n",
    "             NN = auc_NN,\n",
    "             Final = auc_Final\n",
    "            )"
   ]
  },
  {
   "cell_type": "code",
   "execution_count": null,
   "metadata": {},
   "outputs": [],
   "source": [
    "ordered_aucs <- aucs[order(sapply(aucs, FUN=max), decreasing=TRUE)]"
   ]
  },
  {
   "cell_type": "code",
   "execution_count": null,
   "metadata": {},
   "outputs": [],
   "source": [
    "print(ordered_aucs)"
   ]
  },
  {
   "cell_type": "code",
   "execution_count": null,
   "metadata": {},
   "outputs": [],
   "source": [
    "barplot(unlist(ordered_aucs), \n",
    "        ylim = c(min(unlist(ordered_aucs)), max(unlist(ordered_aucs))),\n",
    "        xpd = FALSE\n",
    "       )"
   ]
  },
  {
   "cell_type": "markdown",
   "metadata": {},
   "source": [
    "## Final prediction"
   ]
  },
  {
   "cell_type": "markdown",
   "metadata": {},
   "source": [
    "Show all datas"
   ]
  },
  {
   "cell_type": "code",
   "execution_count": null,
   "metadata": {},
   "outputs": [],
   "source": [
    "counts <- hist(datas_or$data_lhcb$Lambda_b0_MM_F, freq = FALSE, breaks=200)"
   ]
  },
  {
   "cell_type": "markdown",
   "metadata": {},
   "source": [
    "Filtering in order to fit the curve"
   ]
  },
  {
   "cell_type": "code",
   "execution_count": null,
   "metadata": {},
   "outputs": [],
   "source": [
    "filter <- counts[[1]]<5300 | counts[[1]]>5900\n",
    "x_ <- counts[[1]][filter]\n",
    "y_ <- counts[[3]][filter]"
   ]
  },
  {
   "cell_type": "markdown",
   "metadata": {},
   "source": [
    "Normalizing because Gamma distribution starts from zero"
   ]
  },
  {
   "cell_type": "code",
   "execution_count": null,
   "metadata": {},
   "outputs": [],
   "source": [
    "x <- x_[-length(x_)]-min(x_)\n",
    "y <- y_[-length(y_)]"
   ]
  },
  {
   "cell_type": "markdown",
   "metadata": {},
   "source": [
    "Fitting the gamma distribution"
   ]
  },
  {
   "cell_type": "code",
   "execution_count": null,
   "metadata": {},
   "outputs": [],
   "source": [
    "model_gamma <- nls(y ~ dgamma(x, shape=shape, rate=rate),\n",
    "                   start = list(shape=3.685, rate=0.0031),\n",
    "                   control = list(maxiter=1000)\n",
    "                  )"
   ]
  },
  {
   "cell_type": "markdown",
   "metadata": {},
   "source": [
    "Printing results of the fit"
   ]
  },
  {
   "cell_type": "code",
   "execution_count": null,
   "metadata": {},
   "outputs": [],
   "source": [
    "model_gamma"
   ]
  },
  {
   "cell_type": "markdown",
   "metadata": {},
   "source": [
    "Showing the fit result"
   ]
  },
  {
   "cell_type": "code",
   "execution_count": null,
   "metadata": {},
   "outputs": [],
   "source": [
    "x_pred <- seq(0,8000, length.out = 1000)\n",
    "y_pred <- predict(model_gamma, data.frame(x=x_pred))"
   ]
  },
  {
   "cell_type": "code",
   "execution_count": null,
   "metadata": {},
   "outputs": [],
   "source": [
    "hist(datas_or$data_lhcb$Lambda_b0_MM_F, freq = FALSE, breaks=200)\n",
    "polygon(x_pred+min(x_), y_pred, col=rgb(1, 0, 0,0.3), border=NA, xlim=c(3000,8000), ylim=c(0,0.001))"
   ]
  },
  {
   "cell_type": "code",
   "execution_count": null,
   "metadata": {},
   "outputs": [],
   "source": [
    "hist(datas_or$data_lhcb$Lambda_b0_MM_F, freq = TRUE, breaks=200, xlim=c(5500,5800))\n",
    "polygon(x_pred+3100, y_pred*nrow(datas_or$data_lhcb)*(counts$breaks[2]-counts$breaks[1]),\n",
    "        col=rgb(1, 0, 0,0.3), border=NA, xlim=c(3000,8000), ylim=c(0,0.001))"
   ]
  },
  {
   "cell_type": "markdown",
   "metadata": {},
   "source": [
    "Subtracting the fitted model to the data"
   ]
  },
  {
   "cell_type": "code",
   "execution_count": null,
   "metadata": {},
   "outputs": [],
   "source": [
    "breaks <- counts$breaks[-length(counts$breaks)]+(counts$breaks[2]-counts$breaks[1])/2\n",
    "x_residual <- data.frame(x=breaks)-min(breaks)\n",
    "counts_residual <- counts$counts - predict(model_gamma, x_residual)*nrow(datas_or$data_lhcb)*(counts$breaks[2]-counts$breaks[1])"
   ]
  },
  {
   "cell_type": "code",
   "execution_count": null,
   "metadata": {},
   "outputs": [],
   "source": [
    "counts_residual[counts_residual<0] = 0"
   ]
  },
  {
   "cell_type": "code",
   "execution_count": null,
   "metadata": {},
   "outputs": [],
   "source": [
    "plot(breaks, counts_residual, type='l')"
   ]
  },
  {
   "cell_type": "code",
   "execution_count": null,
   "metadata": {},
   "outputs": [],
   "source": [
    "plot(breaks, counts_residual,\n",
    "     type = 'l',\n",
    "     xlim = c(5500,5750)\n",
    "    )"
   ]
  },
  {
   "cell_type": "markdown",
   "metadata": {},
   "source": [
    "Calculating theorical number of interesting events"
   ]
  },
  {
   "cell_type": "code",
   "execution_count": null,
   "metadata": {},
   "outputs": [],
   "source": [
    "breaks_fit <-breaks[breaks>5500 & breaks<5750]\n",
    "counts_residual_fit <- counts_residual[breaks>5500 & breaks<5750]"
   ]
  },
  {
   "cell_type": "code",
   "execution_count": null,
   "metadata": {},
   "outputs": [],
   "source": [
    "plot(breaks_fit, counts_residual_fit,\n",
    "     type = 'l'\n",
    "    )"
   ]
  },
  {
   "cell_type": "code",
   "execution_count": null,
   "metadata": {},
   "outputs": [],
   "source": [
    "expected_number_interesting_events <- as.integer(sum(counts_residual_fit))\n",
    "print(expected_number_interesting_events)"
   ]
  },
  {
   "cell_type": "markdown",
   "metadata": {},
   "source": [
    "Making the final prediction on the complementary data"
   ]
  },
  {
   "cell_type": "code",
   "execution_count": null,
   "metadata": {},
   "outputs": [],
   "source": [
    "predicted_prob_final <- predict_final_model(nn_models = NN_models_and_scalers_AT,\n",
    "                                            adaboost = AB_AT,\n",
    "                                            gradboost = GB_AT,\n",
    "                                            rf_all = random_forest_all_AT,\n",
    "                                            rf_usf = random_forest_usf_AT,\n",
    "                                            rf_opt = random_forest_opt_AT,\n",
    "                                            rf_ens = EnsembleForest_classifiers_AT,\n",
    "                                            x_test = datas$data_compl,\n",
    "                                            final_model = Final_Model,\n",
    "                                            drop_columns = drop_columns,\n",
    "                                            alpha = alpha\n",
    "                                           )"
   ]
  },
  {
   "cell_type": "code",
   "execution_count": null,
   "metadata": {},
   "outputs": [],
   "source": [
    "pred_fin_classes <- round(predicted_prob_final)"
   ]
  },
  {
   "cell_type": "code",
   "execution_count": null,
   "metadata": {},
   "outputs": [],
   "source": [
    "predicted_true <- datas_or$data_compl[pred_fin_classes==1,]"
   ]
  },
  {
   "cell_type": "code",
   "execution_count": null,
   "metadata": {
    "scrolled": true
   },
   "outputs": [],
   "source": [
    "fin_pred <- predicted_true$Lambda_b0_MM_F\n",
    "filt_fin_pred <- fin_pred[fin_pred>5550 & fin_pred<5680]"
   ]
  },
  {
   "cell_type": "code",
   "execution_count": null,
   "metadata": {},
   "outputs": [],
   "source": [
    "str(filt_fin_pred)"
   ]
  },
  {
   "cell_type": "code",
   "execution_count": null,
   "metadata": {},
   "outputs": [],
   "source": [
    "tot_ <- hist(datas_or$data_compl$Lambda_b0_MM_F, freq = TRUE, breaks=200, col='red', main=\"\")\n",
    "delta_m <- tot_$breaks[2]-tot_$breaks[1]\n",
    "final_pred <- hist(fin_pred, freq = TRUE, breaks=tot_$breaks, col='green', add=TRUE)\n",
    "legend(\"topright\",\n",
    "       c('data_complementary', 'prediction'),\n",
    "       fill=c('red', 'green')\n",
    "      )"
   ]
  },
  {
   "cell_type": "markdown",
   "metadata": {},
   "source": [
    "Other useful quantities"
   ]
  },
  {
   "cell_type": "code",
   "execution_count": null,
   "metadata": {},
   "outputs": [],
   "source": [
    "str(datas_or$data_compl$Lambda_b0_MM_F[datas_or$data_compl$Lambda_b0_MM_F<5550])"
   ]
  },
  {
   "cell_type": "code",
   "execution_count": null,
   "metadata": {},
   "outputs": [],
   "source": [
    "sum(tot_$counts[tot_$breaks<5680 & tot_$breaks>5500])"
   ]
  },
  {
   "cell_type": "code",
   "execution_count": null,
   "metadata": {},
   "outputs": [],
   "source": [
    "sum(tot_$counts[tot_$breaks<5500])"
   ]
  },
  {
   "cell_type": "code",
   "execution_count": null,
   "metadata": {},
   "outputs": [],
   "source": [
    "sum(final_pred$counts[final_pred$breaks<5500])"
   ]
  }
 ],
 "metadata": {
  "kernelspec": {
   "display_name": "R",
   "language": "R",
   "name": "ir"
  },
  "language_info": {
   "codemirror_mode": "r",
   "file_extension": ".r",
   "mimetype": "text/x-r-source",
   "name": "R",
   "pygments_lexer": "r",
   "version": "3.4.4"
  }
 },
 "nbformat": 4,
 "nbformat_minor": 2
}
