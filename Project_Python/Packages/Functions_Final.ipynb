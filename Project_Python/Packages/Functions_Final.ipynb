{
 "cells": [
  {
   "cell_type": "markdown",
   "metadata": {},
   "source": [
    "# Final - All Best Predictors Together"
   ]
  },
  {
   "cell_type": "code",
   "execution_count": null,
   "metadata": {},
   "outputs": [],
   "source": [
    "class Final_Ensemble():\n",
    "    \n",
    "    def __init__(self, classifiers):\n",
    "        classifiers_tot = []\n",
    "        for classifier in classifiers:\n",
    "            try:\n",
    "                _ = classifier[0]\n",
    "                for classifier_sing in classifier:\n",
    "                    classifiers_tot.append(classifier_sing)\n",
    "            except:\n",
    "                classifiers_tot.append(classifier)\n",
    "        self.classifiers = classifiers_tot\n",
    "        \n",
    "    def predict(self, data):\n",
    "        voting = np.zeros((data.shape[0],1))\n",
    "        for classifier in self.classifiers:\n",
    "            prob_vote = classifier.predict_proba(data)\n",
    "            try:\n",
    "                prob_vote[0][1]\n",
    "                proba = [prob[1] for prob in prob_vote]\n",
    "            except:\n",
    "                proba = prob_vote\n",
    "            voting += np.array(proba).reshape(-1,1)\n",
    "        voting = voting/len(self.classifiers)\n",
    "        return np.round(voting).astype(int)\n",
    "    \n",
    "    def predict_proba(self, data):\n",
    "        voting = np.zeros((data.shape[0],2))\n",
    "        for classifier in self.classifiers:\n",
    "            prob_vote = classifier.predict_proba(data)\n",
    "            try:\n",
    "                prob_vote[0][1]\n",
    "                proba = [prob[1] for prob in prob_vote]\n",
    "            except:\n",
    "                proba = prob_vote\n",
    "            voting += np.array(proba).reshape(-1,1)\n",
    "        voting = voting/len(self.classifiers)\n",
    "        return voting"
   ]
  }
 ],
 "metadata": {
  "kernelspec": {
   "display_name": "Python 3",
   "language": "python",
   "name": "python3"
  },
  "language_info": {
   "codemirror_mode": {
    "name": "ipython",
    "version": 3
   },
   "file_extension": ".py",
   "mimetype": "text/x-python",
   "name": "python",
   "nbconvert_exporter": "python",
   "pygments_lexer": "ipython3",
   "version": "3.7.4"
  }
 },
 "nbformat": 4,
 "nbformat_minor": 2
}
