{
 "cells": [
  {
   "cell_type": "markdown",
   "metadata": {},
   "source": [
    "### Random Forest"
   ]
  },
  {
   "cell_type": "code",
   "execution_count": null,
   "metadata": {},
   "outputs": [],
   "source": [
    "def find_best_parameters(clf, par, x_train, y_train):\n",
    "    grid_classifiers = GridSearchCV(clf, par, n_jobs=-1, iid=True, cv=5)\n",
    "    grid_classifiers.fit(x_train, y_train)\n",
    "\n",
    "    print(\"Best parameters set found:\")\n",
    "    print(grid_classifiers.best_params_)\n",
    "\n",
    "    print(\"Score with best parameters:\")\n",
    "    print(grid_classifiers.best_score_)\n",
    "\n",
    "    print(\"All scores on the grid:\")\n",
    "    scores = grid_classifiers.cv_results_['mean_test_score']\n",
    "    params = grid_classifiers.cv_results_['params']\n",
    "    for sc,pars in zip(scores,params):\n",
    "        print(sc, '\\t\\t', pars)\n",
    "    return"
   ]
  },
  {
   "cell_type": "code",
   "execution_count": null,
   "metadata": {},
   "outputs": [],
   "source": [
    "class ensemble_random_forest():\n",
    "    \n",
    "    def __init__(self, n_classifiers, useful=True):\n",
    "        self.n_classifiers = n_classifiers\n",
    "        self.useful = useful\n",
    "        \n",
    "    def fit(self, data_bkg, data_sig_train):\n",
    "        Classifiers = []\n",
    "        for iteraction in range(self.n_classifiers):\n",
    "            data_bkg_train = data_bkg.sample(frac=1).reset_index(drop=True)[:900]\n",
    "            data_tot = data_bkg_train.append(data_sig_train, ignore_index=True)\n",
    "            data_tot = data_tot.sample(frac=1).reset_index(drop=True)\n",
    "            if self.useful:\n",
    "                forest_clf = RandomForestClassifier(n_estimators=300, max_features=3, bootstrap=True, n_jobs=-1) \n",
    "            else:\n",
    "                forest_clf = RandomForestClassifier(n_estimators=300, max_features=5, bootstrap=True, n_jobs=-1)\n",
    "            forest_clf.fit(data_tot.iloc[:,:-1], data_tot.iloc[:,-1])\n",
    "            Classifiers.append(forest_clf)\n",
    "            #print(iteraction)\n",
    "        self.classifiers = Classifiers\n",
    "        return\n",
    "    \n",
    "    def predict(self, data):\n",
    "        voting = np.zeros(data.shape[0])\n",
    "        for classifier in self.classifiers:\n",
    "            votes = classifier.predict(data)\n",
    "            voting += np.array(votes)\n",
    "        voting = np.round(voting/self.n_classifiers)\n",
    "        return voting\n",
    "            \n",
    "    def predict_proba(self, data):\n",
    "        voting = np.zeros((data.shape[0],2))\n",
    "        for classifier in self.classifiers:\n",
    "            prob_vote = classifier.predict_proba(data)\n",
    "            #proba = [prob[0] for prob in prob_vote]\n",
    "            voting += np.array(prob_vote)\n",
    "        voting = voting/self.n_classifiers\n",
    "        return voting"
   ]
  },
  {
   "cell_type": "code",
   "execution_count": null,
   "metadata": {},
   "outputs": [],
   "source": [
    "def ensemble_give_test(data_sig_test, data_bkg_test):\n",
    "    data_tot = data_sig_test.append(data_bkg_test[:len(data_sig_test)], ignore_index=True)\n",
    "    data_tot = data_tot.sample(frac=1).reset_index(drop=True)\n",
    "    return [data_tot.iloc[:,:-1], data_tot.iloc[:,-1]]"
   ]
  },
  {
   "cell_type": "markdown",
   "metadata": {},
   "source": [
    "## Join Classifiers"
   ]
  },
  {
   "cell_type": "code",
   "execution_count": null,
   "metadata": {},
   "outputs": [],
   "source": [
    "class JoinClassifiers():\n",
    "    \n",
    "    def __init__(self, classifiers, weights=None):\n",
    "        self.classifiers = classifiers\n",
    "        if weights==None:\n",
    "            self.weights = np.ones(len(self.classifiers))\n",
    "        else:\n",
    "            self.weights = weights\n",
    "            \n",
    "    def predict(self, data):\n",
    "        voting = np.zeros(data.shape[0])\n",
    "        for classifier, weight in zip(self.classifiers, self.weights):\n",
    "            votes = classifier.predict(data)\n",
    "            voting += np.array(votes)*weight\n",
    "        voting = np.round(voting/np.sum(self.weights))\n",
    "        return voting\n",
    "    \n",
    "    def predict_proba(self, data):\n",
    "        voting = np.zeros((data.shape[0],2))\n",
    "        for classifier, weight in zip(self.classifiers, self.weights):\n",
    "            prob_vote = classifier.predict_proba(data)\n",
    "            #proba = [prob[0] for prob in prob_vote]\n",
    "            voting += np.array(prob_vote)*weight\n",
    "        voting = voting/np.sum(self.weights)\n",
    "        return voting"
   ]
  }
 ],
 "metadata": {
  "kernelspec": {
   "display_name": "Python 3",
   "language": "python",
   "name": "python3"
  },
  "language_info": {
   "codemirror_mode": {
    "name": "ipython",
    "version": 3
   },
   "file_extension": ".py",
   "mimetype": "text/x-python",
   "name": "python",
   "nbconvert_exporter": "python",
   "pygments_lexer": "ipython3",
   "version": "3.7.4"
  }
 },
 "nbformat": 4,
 "nbformat_minor": 2
}
